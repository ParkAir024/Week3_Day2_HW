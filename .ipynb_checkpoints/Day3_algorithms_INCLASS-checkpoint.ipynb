{
 "cells": [
  {
   "cell_type": "markdown",
   "metadata": {},
   "source": [
    "# Algorithms, Binary Search & Linked Lists"
   ]
  },
  {
   "cell_type": "markdown",
   "metadata": {},
   "source": [
    "## Tasks Today:\n",
    " \n",
    "1) <b>In-Place Algorithms</b> <br>\n",
    " &nbsp;&nbsp;&nbsp;&nbsp; a) Syntax <br>\n",
    " &nbsp;&nbsp;&nbsp;&nbsp; a) Out of Place Algorithm <br>\n",
    " &nbsp;&nbsp;&nbsp;&nbsp; b) In-Class Exercise #1 <br>\n",
    "2) <b>Two Pointers</b> <br>\n",
    "3) <b>Linked Lists</b> <br>\n",
    "4) <b>Merge Sort</b> <br>\n",
    " &nbsp;&nbsp;&nbsp;&nbsp; a) Video on Algorithms <br>\n",
    " &nbsp;&nbsp;&nbsp;&nbsp; b) How it Works <br>\n",
    "5) <b>Exercises</b> <br>\n",
    " &nbsp;&nbsp;&nbsp;&nbsp; a) Exercise #1 - Reverse a List in Place Using an In-Place Algorithm <br>\n",
    " &nbsp;&nbsp;&nbsp;&nbsp; b) Exercise #2 - Find Distinct Words <br>\n",
    " &nbsp;&nbsp;&nbsp;&nbsp; c) Exercise #3 - Write a program to implement a Linear Search Algorithm. <br>"
   ]
  },
  {
   "cell_type": "markdown",
   "metadata": {},
   "source": [
    "## In-Place Algorithms"
   ]
  },
  {
   "cell_type": "markdown",
   "metadata": {},
   "source": [
    "#### Syntax"
   ]
  },
  {
   "cell_type": "code",
   "execution_count": 53,
   "metadata": {},
   "outputs": [
    {
     "name": "stdout",
     "output_type": "stream",
     "text": [
      "First - [1, 2, 3]\n",
      "AFTER- [3, 2, 1]\n"
     ]
    }
   ],
   "source": [
    "#some_list = [5,4,3,2,1]\n",
    "#print(sorted(some_list))\n",
    "#print(some_list)\n",
    "#print(some_list.sort())\n",
    "#print(some_list)\n",
    "#some examples\n",
    "\n",
    "\n",
    "def swap(arr, a, b, c):\n",
    "    tempa = arr[a]\n",
    "    tempc = arr[c]\n",
    "    arr[a] = tempc\n",
    "    arr[c] = tempa\n",
    "    \n",
    "def swap_de(arr, a, b, c):\n",
    "    arr[a], arr[b], arr[c] = arr[c],arr[b], arr[a]    \n",
    "  \n",
    "exp_list = [1,2,3]\n",
    "print(f\"First - {exp_list}\")\n",
    "\n",
    "#swap(exp_list, 0,1,2)\n",
    "swap_de(exp_list, 0, 1, 2)\n",
    "print(f\"AFTER- {exp_list}\")\n",
    "\n"
   ]
  },
  {
   "cell_type": "markdown",
   "metadata": {},
   "source": [
    "#### Out of Place Algorithm"
   ]
  },
  {
   "cell_type": "code",
   "execution_count": 54,
   "metadata": {},
   "outputs": [
    {
     "name": "stdout",
     "output_type": "stream",
     "text": [
      "[4, 700, 456, 20, 234, 0]\n"
     ]
    }
   ],
   "source": [
    "# The only difference here is we're going to make, modify and return a copy\n",
    "def swap_de(arr, a, b, c):\n",
    "    copy = arr[:]\n",
    "    copy[a], copy[b], copy[c] = copy[c], copy[b], copy[a]   \n",
    "    return copy\n",
    "ex_list = [4, 20,456, 700, 234, 0]\n",
    "print(swap_de(ex_list,1,2,3))"
   ]
  },
  {
   "cell_type": "markdown",
   "metadata": {},
   "source": [
    "#### In-Class Exercise #1 <br>\n",
    "<p>Write a function that takes in four arguments (list, index1, index2, index3), and swaps those three positions in the list passed in.</p>"
   ]
  },
  {
   "cell_type": "code",
   "execution_count": 55,
   "metadata": {},
   "outputs": [
    {
     "name": "stdout",
     "output_type": "stream",
     "text": [
      "[3, 10, 4, 8, 4, 2, 6]\n"
     ]
    }
   ],
   "source": [
    "l_1 = [10, 4, 3, 8, 4, 2, 6]\n",
    "\n",
    "def swap(arr, a, b, c):\n",
    "    tempa = arr[a]\n",
    "    tempc = arr[c]\n",
    "    arr[a] = tempc\n",
    "    arr[c] = tempa\n",
    "    \n",
    "def swap_de(arr, a, b, c):\n",
    "    arr[a], arr[b], arr[c] = arr[c],arr[a], arr[b] \n",
    "\n",
    "exp_list = l_1\n",
    "\n",
    "swap_de(exp_list, 0, 1, 2)\n",
    "print(exp_list)\n"
   ]
  },
  {
   "cell_type": "markdown",
   "metadata": {},
   "source": [
    "## Two Pointers"
   ]
  },
  {
   "cell_type": "markdown",
   "metadata": {},
   "source": [
    "#### Syntax"
   ]
  },
  {
   "cell_type": "code",
   "execution_count": 56,
   "metadata": {},
   "outputs": [
    {
     "name": "stdout",
     "output_type": "stream",
     "text": [
      "on your left- 0\t and t your right-6\n",
      "on your left- 1\t and t your right-5\n",
      "on your left- 2\t and t your right-4\n",
      "[6, 2, 4, 8, 4, 10, 3]\n",
      "on your left- 0\t and t your right-4\n",
      "on your left- 1\t and t your right-3\n",
      "[5, 4, 3, 2, 1]\n",
      "on your left- 0\t and t your right-4\n",
      "on your left- 1\t and t your right-3\n",
      "['e', 'd', 'c', 'b', 'a']\n"
     ]
    }
   ],
   "source": [
    "#arr[a], arr[b] = arr[b], arr[a]\n",
    "\n",
    "def dos_point(arr):\n",
    "    left = 0\n",
    "    right = len(arr) - 1\n",
    "    while left < right:\n",
    "        print(f\"on your left- {left}\\t and t your right-{right}\")\n",
    "        arr[left], arr[right] = arr[right],arr[left]\n",
    "        left += 1\n",
    "        right -= 1\n",
    "    return arr\n",
    "dos_point(l_1)\n",
    "print(l_1)\n",
    "\n",
    "o_list = [1,2,3,4,5]\n",
    "dos_point(o_list)\n",
    "print(o_list)\n",
    "\n",
    "a_list = ['a', 'b', 'c', 'd', 'e']\n",
    "dos_point(a_list)\n",
    "print(a_list)\n"
   ]
  },
  {
   "cell_type": "markdown",
   "metadata": {},
   "source": [
    "#### Video of Algorithms <br>\n",
    "<p>Watch the video about algorithms.</p>\n",
    "\n",
    "https://www.youtube.com/watch?v=Q9HjeFD62Uk\n",
    "\n",
    "https://www.youtube.com/watch?v=kPRA0W1kECg\n",
    "\n",
    "https://www.youtube.com/watch?v=ZZuD6iUe3Pc"
   ]
  },
  {
   "cell_type": "markdown",
   "metadata": {},
   "source": [
    "# Sorting Algorithms"
   ]
  },
  {
   "cell_type": "markdown",
   "metadata": {},
   "source": [
    "#### Bubble Sort\n",
    "\n",
    "Worst Case: O(n^2) Time - O(1) Space"
   ]
  },
  {
   "cell_type": "code",
   "execution_count": 57,
   "metadata": {},
   "outputs": [
    {
     "name": "stdout",
     "output_type": "stream",
     "text": [
      "[1, 2, 3, 4, 5, 6]\n"
     ]
    }
   ],
   "source": [
    "def swapper(arr, a, b):\n",
    "    arr[a], arr[b] = arr[b], arr[a]\n",
    "    \n",
    "def bubbles(arr):\n",
    "    for x in range(len(arr)):\n",
    "        print(f\"x - {x}\")\n",
    "\n",
    "        for y in range(len(arr)-1): # watch for errors with len(arr) without using -1, you might be out of bounds\n",
    "            print(f\"y - {y}\")\n",
    "            if arr[y] > arr[y+1]:\n",
    "                swapper(arr, y, y + 1)\n",
    "\n",
    "num_list2 = [6,5,4,3,2,1]           \n",
    "#bubbles(num_list2)\n",
    "#print(num_list2)\n",
    "\n",
    "def op_bubbles(arr):\n",
    "    is_sorted = False\n",
    "    while not is_sorted:\n",
    "        is_sorted = True\n",
    "        for i in range(len(arr) - 1):\n",
    "            if arr[i] > arr [i+1]:\n",
    "                swapper(arr, i, i+1)\n",
    "                is_sorted = False\n",
    "    return arr\n",
    "op_bubbles(num_list2)\n",
    "print(num_list2)"
   ]
  },
  {
   "cell_type": "markdown",
   "metadata": {},
   "source": [
    "##### Insertion Sort\n",
    "\n",
    "Worst Case: O(n^2) time - O(1)space"
   ]
  },
  {
   "cell_type": "code",
   "execution_count": 58,
   "metadata": {},
   "outputs": [
    {
     "name": "stdout",
     "output_type": "stream",
     "text": [
      "Before - [2, 5, 3, 67, 98, 43, 0, 8]\n",
      "AFTER - [0, 2, 3, 5, 8, 43, 67, 98]\n"
     ]
    }
   ],
   "source": [
    "num_list3 = [2,5,3,67,98,43,0,8]\n",
    "def swapper(arr, a, b):\n",
    "    arr[a], arr[b] = arr[b], arr[a]\n",
    "    \n",
    "def ins_sort(arr):\n",
    "    for i in range(len(arr)):\n",
    "        j=i\n",
    "        while j > 0 and arr[j] < arr[ j - 1]:\n",
    "            swapper(arr, j, j - 1)\n",
    "            j -= 1\n",
    "\n",
    "print(f\"Before - {num_list3}\")\n",
    "ins_sort(num_list3)\n",
    "print(f\"AFTER - {num_list3}\")"
   ]
  },
  {
   "cell_type": "markdown",
   "metadata": {},
   "source": [
    "## Merge Sort"
   ]
  },
  {
   "cell_type": "markdown",
   "metadata": {},
   "source": [
    "#### How it Works"
   ]
  },
  {
   "cell_type": "code",
   "execution_count": 59,
   "metadata": {},
   "outputs": [
    {
     "name": "stdout",
     "output_type": "stream",
     "text": [
      "[2, 5, 3, 67, 98, 43, 0, 8]\n",
      "Split, split, split .....\n",
      "Split, split, split .....\n",
      "Split, split, split .....\n",
      "Split, split, split .....\n",
      "MERGING. . .. [2]\n",
      "Split, split, split .....\n",
      "MERGING. . .. [5]\n",
      "MERGING. . .. [5, 5]\n",
      "Split, split, split .....\n",
      "Split, split, split .....\n",
      "MERGING. . .. [3]\n",
      "Split, split, split .....\n",
      "MERGING. . .. [67]\n",
      "MERGING. . .. [67, 67]\n",
      "MERGING. . .. [67, 67, 3, 67]\n",
      "Split, split, split .....\n",
      "Split, split, split .....\n",
      "Split, split, split .....\n",
      "MERGING. . .. [98]\n",
      "Split, split, split .....\n",
      "MERGING. . .. [43]\n",
      "MERGING. . .. [43, 98]\n",
      "Split, split, split .....\n",
      "Split, split, split .....\n",
      "MERGING. . .. [0]\n",
      "Split, split, split .....\n",
      "MERGING. . .. [8]\n",
      "MERGING. . .. [8, 8]\n",
      "MERGING. . .. [8, 8, 43, 98]\n",
      "MERGING. . .. [8, 8, 43, 98, 98, 43, 0, 8]\n",
      "[8, 8, 43, 98, 98, 43, 0, 8]\n"
     ]
    }
   ],
   "source": [
    "# split list as far as you can, use three pointers to put it back in order, repeat\n",
    "\n",
    "#1: split and keep splitting\n",
    "#2: merge from left to right each group together\n",
    "#3:while merging, order matters\n",
    "\n",
    "\n",
    "\n",
    "def merge_sort(arr):\n",
    "    print('Split, split, split .....')\\\n",
    "# step 1:\n",
    "    if len(arr) > 1:\n",
    "        mid = len(arr) // 2 #easy/common way to grab the middle of a list\n",
    "        lefthalf = arr[:mid]\n",
    "        righthalf = arr[mid:]\n",
    "        \n",
    "        # call function recursively to continue performing splits as needed\n",
    "        #then we'll merge\n",
    "        merge_sort(lefthalf)\n",
    "        merge_sort(righthalf)\n",
    "#end 1\n",
    "#step 2\n",
    "    #compre left and right\n",
    "    #3 pointers\n",
    "        i, j, k = 0, 0, 0\n",
    "    \n",
    "        while i < len(lefthalf) and j < len(righthalf):\n",
    "            if lefthalf[i] < righthalf[j]:\n",
    "                arr[k] = lefthalf[i]\n",
    "                i += 1\n",
    "    #            k += 1\n",
    "            else:\n",
    "                arr[k] = righthalf[j]\n",
    "                j += 1\n",
    "                k += 1        \n",
    "#end 2\n",
    "#step 3\n",
    "    #Order matters\n",
    "        while i < len(lefthalf):\n",
    "            arr[k] = lefthalf[i]\n",
    "            i += 1\n",
    "            k += 1\n",
    "        while j < len(righthalf):\n",
    "            arr[k] = righthalf[j]\n",
    "            j += 1\n",
    "            k += 1\n",
    "#end 3\n",
    "#step 4\n",
    "    print(f\"MERGING. . .. {arr}\")\n",
    "#end 4\n",
    "num_list3 = [2,5,3,67,98,43,0,8]\n",
    "print(num_list3)\n",
    "merge_sort(num_list3)\n",
    "print(num_list3)\n",
    "        "
   ]
  },
  {
   "cell_type": "markdown",
   "metadata": {},
   "source": [
    "# Binary Search\n",
    "\n",
    "The Binary Search algorithm works by finding the number in the middle of a given array and comparing it to the target. Given that the array is sorted\n",
    "\n",
    "* The worst case run time for this algorithm is `O(log(n))`"
   ]
  },
  {
   "cell_type": "code",
   "execution_count": 60,
   "metadata": {},
   "outputs": [
    {
     "name": "stdout",
     "output_type": "stream",
     "text": [
      "STEP -1\n",
      "STEP -2\n",
      "STEP -3\n",
      "STEP -4\n",
      " Found Target(12) at index--> 3\n"
     ]
    }
   ],
   "source": [
    "nums = [0, 4, 8, 12, 30, 35, 45, 56, 67, 78, 89, 94, 105]\n",
    "def bin_search(arr, target):\n",
    "    left = 0\n",
    "    right = len(arr)-1\n",
    "    counter = 1\n",
    "    while left <= right:\n",
    "        print(f\"STEP -{counter}\")\n",
    "        mid = (left + right) // 2\n",
    "        maybe_target = arr[mid]\n",
    "        if target == maybe_target:\n",
    "            return f\" Found Target({target}) at index--> {mid}\"\n",
    "        elif target < maybe_target:\n",
    "            right = mid-1\n",
    "        elif target > maybe_target:\n",
    "            left = mid + 1\n",
    "        counter +=1\n",
    "    return f\"Your target is NOT in this list!\"\n",
    "print(bin_search(nums, 12))"
   ]
  },
  {
   "cell_type": "markdown",
   "metadata": {},
   "source": [
    "# Exercises"
   ]
  },
  {
   "cell_type": "markdown",
   "metadata": {},
   "source": [
    "### Exercise #1 <br>\n",
    "<p>Reverse the list below in-place using an in-place algorithm.<br>For extra credit: Reverse the strings at the same time.</p>"
   ]
  },
  {
   "cell_type": "code",
   "execution_count": 61,
   "metadata": {},
   "outputs": [
    {
     "name": "stdout",
     "output_type": "stream",
     "text": [
      "['.', 'ecnetnes', 'a', 'si', 'siht']\n"
     ]
    }
   ],
   "source": [
    "words = ['this' , 'is', 'a', 'sentence', '.']\n",
    "\n",
    "def word_list(arr):\n",
    "    left = 0\n",
    "    right = len(arr) - 1\n",
    "    while left < right:\n",
    "        arr[left], arr[right] = arr[right], arr[left]\n",
    "        left += 1\n",
    "        right -= 1\n",
    "    for i in range(len(arr)):\n",
    "        arr[i] = arr[i][::-1]\n",
    "        \n",
    "word_list(words)\n",
    "print(words)\n"
   ]
  },
  {
   "cell_type": "markdown",
   "metadata": {},
   "source": [
    "### Exercise #2 <br>\n",
    "<p>Create a function that counts how many distinct words are in the string below, then outputs a dictionary with the words as the key and the value as the amount of times that word appears in the string.<br>Should output:<br>{'a': 5,<br>\n",
    " 'abstract': 1,<br>\n",
    " 'an': 3,<br>\n",
    " 'array': 2, ... etc...</p>"
   ]
  },
  {
   "cell_type": "code",
   "execution_count": 76,
   "metadata": {},
   "outputs": [
    {
     "name": "stdout",
     "output_type": "stream",
     "text": [
      "{'a': 5, 'abstract': 1, 'an': 3, 'array': 2, 'associative': 1, 'be': 1, 'buckets': 1, 'can': 2, 'compute': 1, 'computing': 1, 'data': 2, 'desired': 1, 'found': 1, 'from': 1, 'function': 1, 'hash': 4, 'implements': 1, 'in': 1, 'index': 1, 'into': 1, 'is': 1, 'keys': 1, 'map': 2, 'of': 1, 'or': 1, 'slots': 1, 'structure': 2, 'table': 2, 'that': 1, 'the': 1, 'to': 2, 'type': 1, 'uses': 1, 'value': 1, 'values.': 1, 'which': 2}\n"
     ]
    }
   ],
   "source": [
    "a_text = 'In computing, a hash table hash map is a data structure which implements an associative array abstract data type, a structure that can map keys to values. A hash table uses a hash function to compute an index into an array of buckets or slots from which the desired value can be found'\n",
    "\n",
    "a_text = a_text.replace(',', '').lower().split()\n",
    "wc = {}\n",
    "\n",
    "for word in a_text:\n",
    "    if word in wc.keys():\n",
    "        wc[word] += 1\n",
    "    else:\n",
    "        wc[word] = 1\n",
    "        \n",
    "sorted_wc = dict(sorted(wc.items()))\n",
    "\n",
    "print(sorted_wc)\n"
   ]
  },
  {
   "cell_type": "markdown",
   "metadata": {},
   "source": [
    "## Exercise #3\n",
    "\n",
    "Write a program to implement a Linear Search Algorithm. Also in a comment, write the Time Complexity of the following algorithm.\n",
    "\n",
    "#### Hint: Linear Searching will require searching a list for a given number. "
   ]
  },
  {
   "cell_type": "code",
   "execution_count": 77,
   "metadata": {},
   "outputs": [
    {
     "name": "stdout",
     "output_type": "stream",
     "text": [
      "Element 7 found at index 3.\n"
     ]
    }
   ],
   "source": [
    "def linear_search(arr, target):\n",
    "    for i in range(len(arr)):\n",
    "        if arr[i] == target:\n",
    "            return i\n",
    "    return -1\n",
    "\n",
    "# Example usage:\n",
    "my_list = [1, 5, 3, 7, 9, 2]\n",
    "target = 7\n",
    "result = linear_search(my_list, target)\n",
    "\n",
    "if result != -1:\n",
    "    print(f\"Element {target_element} found at index {result}.\")\n",
    "else:\n",
    "    print(f\"Element {target_element} not found in the list.\")"
   ]
  },
  {
   "cell_type": "code",
   "execution_count": null,
   "metadata": {},
   "outputs": [],
   "source": [
    "#Time complexity of O(n)"
   ]
  }
 ],
 "metadata": {
  "kernelspec": {
   "display_name": "Python 3 (ipykernel)",
   "language": "python",
   "name": "python3"
  },
  "language_info": {
   "codemirror_mode": {
    "name": "ipython",
    "version": 3
   },
   "file_extension": ".py",
   "mimetype": "text/x-python",
   "name": "python",
   "nbconvert_exporter": "python",
   "pygments_lexer": "ipython3",
   "version": "3.11.5"
  }
 },
 "nbformat": 4,
 "nbformat_minor": 2
}
